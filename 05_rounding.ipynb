{
 "cells": [
  {
   "cell_type": "code",
   "execution_count": 1,
   "id": "4974677f",
   "metadata": {},
   "outputs": [],
   "source": [
    "import numpy as np"
   ]
  },
  {
   "cell_type": "markdown",
   "id": "3a22039e",
   "metadata": {},
   "source": [
    "# Truncation\n",
    "### Remove the decimals, and return the float number closest to zero. Use the trunc() and fix() functions."
   ]
  },
  {
   "cell_type": "markdown",
   "id": "edc139bb",
   "metadata": {},
   "source": [
    "## trunc()"
   ]
  },
  {
   "cell_type": "code",
   "execution_count": 2,
   "id": "5f24cd6e",
   "metadata": {},
   "outputs": [
    {
     "name": "stdout",
     "output_type": "stream",
     "text": [
      "[-3.  3.]\n"
     ]
    }
   ],
   "source": [
    "arr = np.trunc([-3.1666, 3.6667])\n",
    "\n",
    "print(arr)"
   ]
  },
  {
   "cell_type": "markdown",
   "id": "8d753761",
   "metadata": {},
   "source": [
    "## fix()"
   ]
  },
  {
   "cell_type": "code",
   "execution_count": 3,
   "id": "d34e083e",
   "metadata": {},
   "outputs": [
    {
     "name": "stdout",
     "output_type": "stream",
     "text": [
      "[-3.  3.]\n"
     ]
    }
   ],
   "source": [
    "arr = np.fix([-3.1666, 3.6667])\n",
    "\n",
    "print(arr)"
   ]
  },
  {
   "cell_type": "markdown",
   "id": "d71a7da4",
   "metadata": {},
   "source": [
    "## round()"
   ]
  },
  {
   "cell_type": "code",
   "execution_count": 4,
   "id": "febe5452",
   "metadata": {},
   "outputs": [
    {
     "name": "stdout",
     "output_type": "stream",
     "text": [
      "3.17\n"
     ]
    }
   ],
   "source": [
    "arr = np.around(3.1666, 2)\n",
    "\n",
    "print(arr)"
   ]
  },
  {
   "cell_type": "markdown",
   "id": "3dc16021",
   "metadata": {},
   "source": [
    "## floor()"
   ]
  },
  {
   "cell_type": "code",
   "execution_count": 5,
   "id": "8bf1454c",
   "metadata": {},
   "outputs": [
    {
     "name": "stdout",
     "output_type": "stream",
     "text": [
      "[-4.  3.]\n"
     ]
    }
   ],
   "source": [
    "arr = np.floor([-3.1666, 3.6667])\n",
    "\n",
    "print(arr)"
   ]
  },
  {
   "cell_type": "markdown",
   "id": "7181d498",
   "metadata": {},
   "source": [
    "## ceil()"
   ]
  },
  {
   "cell_type": "code",
   "execution_count": 6,
   "id": "9ee5f454",
   "metadata": {},
   "outputs": [
    {
     "name": "stdout",
     "output_type": "stream",
     "text": [
      "[-3.  4.  4.]\n"
     ]
    }
   ],
   "source": [
    "arr = np.ceil([-3.1666, 3.6667, 3.1666])\n",
    "\n",
    "print(arr)"
   ]
  },
  {
   "cell_type": "markdown",
   "id": "155b910f",
   "metadata": {},
   "source": [
    "## rint()\n",
    "### The rint tool rounds to the nearest integer of input element-wise"
   ]
  },
  {
   "cell_type": "code",
   "execution_count": 7,
   "id": "e435e717",
   "metadata": {},
   "outputs": [
    {
     "name": "stdout",
     "output_type": "stream",
     "text": [
      "[-3.  4.  3.]\n"
     ]
    }
   ],
   "source": [
    "arr = np.rint([-3.1666, 3.6667, 3.1666])\n",
    "\n",
    "print(arr)"
   ]
  }
 ],
 "metadata": {
  "kernelspec": {
   "display_name": "Python 3 (ipykernel)",
   "language": "python",
   "name": "python3"
  },
  "language_info": {
   "codemirror_mode": {
    "name": "ipython",
    "version": 3
   },
   "file_extension": ".py",
   "mimetype": "text/x-python",
   "name": "python",
   "nbconvert_exporter": "python",
   "pygments_lexer": "ipython3",
   "version": "3.9.12"
  }
 },
 "nbformat": 4,
 "nbformat_minor": 5
}
