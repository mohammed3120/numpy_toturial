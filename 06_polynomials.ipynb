{
 "cells": [
  {
   "cell_type": "code",
   "execution_count": 1,
   "id": "c504a548",
   "metadata": {},
   "outputs": [],
   "source": [
    "import numpy as np"
   ]
  },
  {
   "cell_type": "code",
   "execution_count": 2,
   "id": "2b9bf708",
   "metadata": {},
   "outputs": [],
   "source": [
    "Polynomial = np.polynomial.Polynomial"
   ]
  },
  {
   "cell_type": "code",
   "execution_count": 3,
   "id": "e63ccb11",
   "metadata": {},
   "outputs": [
    {
     "name": "stdout",
     "output_type": "stream",
     "text": [
      "5.500000000000001 - 4.500000000000002 x**1\n"
     ]
    }
   ],
   "source": [
    "X= np.array([0,20,40,60,80,100,120,140,160,180])\n",
    "Y= np.array([10,9,8,7,6,5,4,3,2,1])\n",
    "points,stats = Polynomial.fit(X,Y,1,full=True)\n",
    "print(points)"
   ]
  },
  {
   "cell_type": "markdown",
   "id": "25dc79aa",
   "metadata": {},
   "source": [
    "# poly1d"
   ]
  },
  {
   "cell_type": "code",
   "execution_count": 4,
   "id": "228526cc",
   "metadata": {},
   "outputs": [
    {
     "data": {
      "text/plain": [
       "poly1d([-7])"
      ]
     },
     "execution_count": 4,
     "metadata": {},
     "output_type": "execute_result"
    }
   ],
   "source": [
    "a = np.poly1d((-7))\n",
    "a"
   ]
  },
  {
   "cell_type": "code",
   "execution_count": 5,
   "id": "fa3f0c4d",
   "metadata": {},
   "outputs": [
    {
     "data": {
      "text/plain": [
       "poly1d([-7,  2])"
      ]
     },
     "execution_count": 5,
     "metadata": {},
     "output_type": "execute_result"
    }
   ],
   "source": [
    "b = np.poly1d((-7,2))\n",
    "b"
   ]
  },
  {
   "cell_type": "code",
   "execution_count": 6,
   "id": "d412cdda",
   "metadata": {},
   "outputs": [
    {
     "data": {
      "text/plain": [
       "poly1d([-7,  2,  1])"
      ]
     },
     "execution_count": 6,
     "metadata": {},
     "output_type": "execute_result"
    }
   ],
   "source": [
    "c = np.poly1d((-7,2,1))\n",
    "c"
   ]
  },
  {
   "cell_type": "code",
   "execution_count": 7,
   "id": "3a52599a",
   "metadata": {},
   "outputs": [
    {
     "data": {
      "text/plain": [
       "poly1d([-7,  2,  1,  3])"
      ]
     },
     "execution_count": 7,
     "metadata": {},
     "output_type": "execute_result"
    }
   ],
   "source": [
    "d = np.poly1d((-7,2,1,3))\n",
    "d"
   ]
  },
  {
   "cell_type": "code",
   "execution_count": 8,
   "id": "13a015d7",
   "metadata": {},
   "outputs": [
    {
     "data": {
      "text/plain": [
       "poly1d([-7,  2,  1,  3,  6])"
      ]
     },
     "execution_count": 8,
     "metadata": {},
     "output_type": "execute_result"
    }
   ],
   "source": [
    "e = np.poly1d((-7,2,1,3,6))\n",
    "e"
   ]
  },
  {
   "cell_type": "code",
   "execution_count": 9,
   "id": "36437737",
   "metadata": {},
   "outputs": [
    {
     "data": {
      "text/plain": [
       "numpy.poly1d"
      ]
     },
     "execution_count": 9,
     "metadata": {},
     "output_type": "execute_result"
    }
   ],
   "source": [
    "type(e)"
   ]
  },
  {
   "cell_type": "code",
   "execution_count": 10,
   "id": "bc315fcb",
   "metadata": {},
   "outputs": [
    {
     "data": {
      "text/plain": [
       "poly1d([-7,  2,  1])"
      ]
     },
     "execution_count": 10,
     "metadata": {},
     "output_type": "execute_result"
    }
   ],
   "source": [
    "y = np.poly1d(c)\n",
    "y"
   ]
  },
  {
   "cell_type": "code",
   "execution_count": 11,
   "id": "056f9ee7",
   "metadata": {},
   "outputs": [
    {
     "data": {
      "text/plain": [
       "-23"
      ]
     },
     "execution_count": 11,
     "metadata": {},
     "output_type": "execute_result"
    }
   ],
   "source": [
    "r = y(2)\n",
    "r"
   ]
  },
  {
   "cell_type": "code",
   "execution_count": 12,
   "id": "5f0497ec",
   "metadata": {},
   "outputs": [
    {
     "data": {
      "text/plain": [
       "-80"
      ]
     },
     "execution_count": 12,
     "metadata": {},
     "output_type": "execute_result"
    }
   ],
   "source": [
    "-7*(2)**4 + 2*(2)**3 + 1*(2)**2 + 3*2 + 6"
   ]
  },
  {
   "cell_type": "code",
   "execution_count": 13,
   "id": "1685f725",
   "metadata": {},
   "outputs": [
    {
     "data": {
      "text/plain": [
       "-80"
      ]
     },
     "execution_count": 13,
     "metadata": {},
     "output_type": "execute_result"
    }
   ],
   "source": [
    "a = np.polyval((-7,2,1,3,6),2)\n",
    "a"
   ]
  },
  {
   "cell_type": "markdown",
   "id": "6e0d59a8",
   "metadata": {},
   "source": [
    "# deriving"
   ]
  },
  {
   "cell_type": "code",
   "execution_count": 14,
   "id": "94b50dc9",
   "metadata": {},
   "outputs": [
    {
     "data": {
      "text/plain": [
       "poly1d([2, 2])"
      ]
     },
     "execution_count": 14,
     "metadata": {},
     "output_type": "execute_result"
    }
   ],
   "source": [
    "a =np.polyder(np.poly1d((1,2,3))) #x**2 + 2*x + 3 ===> 2*x + 2 # first degree\n",
    "a"
   ]
  },
  {
   "cell_type": "code",
   "execution_count": 15,
   "id": "e5222367",
   "metadata": {},
   "outputs": [
    {
     "data": {
      "text/plain": [
       "poly1d([2])"
      ]
     },
     "execution_count": 15,
     "metadata": {},
     "output_type": "execute_result"
    }
   ],
   "source": [
    "b = np.polyder(np.poly1d((1,2,3)),2)  # 2*x + 2 ==> 2 # second degree\n",
    "b"
   ]
  },
  {
   "cell_type": "code",
   "execution_count": 16,
   "id": "61af6395",
   "metadata": {},
   "outputs": [
    {
     "data": {
      "text/plain": [
       "poly1d([0])"
      ]
     },
     "execution_count": 16,
     "metadata": {},
     "output_type": "execute_result"
    }
   ],
   "source": [
    "c =np.polyder(np.poly1d((1,2,3)),3) # 2 ==> 0 # Third degree\n",
    "c"
   ]
  },
  {
   "cell_type": "markdown",
   "id": "a9f43702",
   "metadata": {},
   "source": [
    "# polyfit"
   ]
  },
  {
   "cell_type": "code",
   "execution_count": 17,
   "id": "28d98d9b",
   "metadata": {},
   "outputs": [
    {
     "data": {
      "text/plain": [
       "array([ -1.78571429,  17.08571429, -35.3       ])"
      ]
     },
     "execution_count": 17,
     "metadata": {},
     "output_type": "execute_result"
    }
   ],
   "source": [
    "x = np.array([3,6,2,5,4])\n",
    "y = np.array([2,3,-9,6,2.5])\n",
    "z = np.polyfit(x, y, 2)\n",
    "z"
   ]
  },
  {
   "cell_type": "code",
   "execution_count": null,
   "id": "5a22df76",
   "metadata": {},
   "outputs": [],
   "source": []
  }
 ],
 "metadata": {
  "kernelspec": {
   "display_name": "Python 3 (ipykernel)",
   "language": "python",
   "name": "python3"
  },
  "language_info": {
   "codemirror_mode": {
    "name": "ipython",
    "version": 3
   },
   "file_extension": ".py",
   "mimetype": "text/x-python",
   "name": "python",
   "nbconvert_exporter": "python",
   "pygments_lexer": "ipython3",
   "version": "3.9.12"
  }
 },
 "nbformat": 4,
 "nbformat_minor": 5
}
