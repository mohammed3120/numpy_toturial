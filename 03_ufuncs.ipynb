{
 "cells": [
  {
   "cell_type": "markdown",
   "id": "5e292573",
   "metadata": {},
   "source": [
    "# What are ufuncs?\n",
    "### ufuncs stands for \"Universal Functions\" and they are NumPy functions that operate on the ndarray object.\n",
    "\n",
    "# Why use ufuncs?\n",
    "### ufuncs are used to implement vectorization in NumPy which is way faster than iterating over elements.\n",
    "\n",
    "### They also provide broadcasting and additional methods like reduce, accumulate etc. that are very helpful for computation.\n",
    "\n",
    "### ufuncs also take additional arguments, like:\n",
    "\n",
    "### where boolean array or condition defining where the operations should take place.\n",
    "\n",
    "### dtype defining the return type of elements.\n",
    "\n",
    "### out output array where the return value should be copied."
   ]
  },
  {
   "cell_type": "code",
   "execution_count": null,
   "id": "ec50391a",
   "metadata": {},
   "outputs": [],
   "source": []
  },
  {
   "cell_type": "markdown",
   "id": "e2b82b2b",
   "metadata": {},
   "source": [
    "# What is Vectorization?\n",
    "### Converting iterative statements into a vector based operation is called vectorization.\n",
    "\n",
    "### It is faster as modern CPUs are optimized for such operations."
   ]
  },
  {
   "cell_type": "code",
   "execution_count": 1,
   "id": "fee713e0",
   "metadata": {},
   "outputs": [
    {
     "name": "stdout",
     "output_type": "stream",
     "text": [
      "[5, 7, 9, 11]\n"
     ]
    }
   ],
   "source": [
    "# Add the Elements of Two Lists\n",
    "x = [1, 2, 3, 4]\n",
    "y = [4, 5, 6, 7]\n",
    "z = []\n",
    "\n",
    "for i, j in zip(x, y):\n",
    "    z.append(i + j)\n",
    "print(z)"
   ]
  },
  {
   "cell_type": "code",
   "execution_count": 2,
   "id": "57c0f672",
   "metadata": {},
   "outputs": [
    {
     "name": "stdout",
     "output_type": "stream",
     "text": [
      "[ 5  7  9 11]\n"
     ]
    }
   ],
   "source": [
    "import numpy as np\n",
    "\n",
    "x = [1, 2, 3, 4]\n",
    "y = [4, 5, 6, 7]\n",
    "z = np.add(x, y)\n",
    "\n",
    "print(z)"
   ]
  },
  {
   "cell_type": "markdown",
   "id": "ded97a0c",
   "metadata": {},
   "source": [
    "# How To Create Your Own ufunc\n",
    "### To create your own ufunc, you have to define a function, like you do with normal functions in Python, then you add it to your NumPy ufunc library with the frompyfunc() method.\n",
    "\n",
    "## The frompyfunc() method takes the following arguments:\n",
    "\n",
    "### 1- function - the name of the function.\n",
    "### 2- inputs - the number of input arguments (arrays).\n",
    "### 3- outputs - the number of output arrays."
   ]
  },
  {
   "cell_type": "code",
   "execution_count": 4,
   "id": "6e99c1a6",
   "metadata": {},
   "outputs": [
    {
     "name": "stdout",
     "output_type": "stream",
     "text": [
      "[6 8 10 12]\n"
     ]
    }
   ],
   "source": [
    "def myadd(x, y):\n",
    "    return x+y\n",
    "\n",
    "myadd = np.frompyfunc(myadd, 2, 1)\n",
    "\n",
    "print(myadd([1, 2, 3, 4], [5, 6, 7, 8]))"
   ]
  },
  {
   "cell_type": "code",
   "execution_count": 5,
   "id": "a15a2cf6",
   "metadata": {},
   "outputs": [
    {
     "data": {
      "text/plain": [
       "numpy.ufunc"
      ]
     },
     "execution_count": 5,
     "metadata": {},
     "output_type": "execute_result"
    }
   ],
   "source": [
    "type(np.add)"
   ]
  },
  {
   "cell_type": "code",
   "execution_count": 6,
   "id": "5e71032c",
   "metadata": {},
   "outputs": [
    {
     "data": {
      "text/plain": [
       "function"
      ]
     },
     "execution_count": 6,
     "metadata": {},
     "output_type": "execute_result"
    }
   ],
   "source": [
    "type(np.concatenate)"
   ]
  }
 ],
 "metadata": {
  "kernelspec": {
   "display_name": "Python 3 (ipykernel)",
   "language": "python",
   "name": "python3"
  },
  "language_info": {
   "codemirror_mode": {
    "name": "ipython",
    "version": 3
   },
   "file_extension": ".py",
   "mimetype": "text/x-python",
   "name": "python",
   "nbconvert_exporter": "python",
   "pygments_lexer": "ipython3",
   "version": "3.9.12"
  }
 },
 "nbformat": 4,
 "nbformat_minor": 5
}
