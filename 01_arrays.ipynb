{
 "cells": [
  {
   "cell_type": "markdown",
   "id": "3f6ec713",
   "metadata": {},
   "source": [
    "# Why Use NumPy?"
   ]
  },
  {
   "cell_type": "markdown",
   "id": "8959076c",
   "metadata": {},
   "source": [
    "#### NumPy aims to provide an array object that is up to 50x faster than traditional Python lists."
   ]
  },
  {
   "cell_type": "markdown",
   "id": "b6ef9634",
   "metadata": {},
   "source": [
    "# Why is NumPy Faster Than Lists?"
   ]
  },
  {
   "cell_type": "markdown",
   "id": "c7c79f08",
   "metadata": {},
   "source": [
    "#### NumPy arrays are stored at one continuous place in memory unlike lists, so processes can access and manipulate them very efficiently."
   ]
  },
  {
   "cell_type": "code",
   "execution_count": 1,
   "id": "27540d6d",
   "metadata": {},
   "outputs": [],
   "source": [
    "import numpy as np"
   ]
  },
  {
   "cell_type": "code",
   "execution_count": 2,
   "id": "bdda55d9",
   "metadata": {},
   "outputs": [
    {
     "name": "stdout",
     "output_type": "stream",
     "text": [
      "1.21.5\n"
     ]
    }
   ],
   "source": [
    "print(np.__version__)"
   ]
  },
  {
   "cell_type": "markdown",
   "id": "06339056",
   "metadata": {},
   "source": [
    "# Create an array"
   ]
  },
  {
   "cell_type": "code",
   "execution_count": 3,
   "id": "67b37c78",
   "metadata": {},
   "outputs": [
    {
     "data": {
      "text/plain": [
       "array(42)"
      ]
     },
     "execution_count": 3,
     "metadata": {},
     "output_type": "execute_result"
    }
   ],
   "source": [
    "arr1 = np.array(42)\n",
    "arr1"
   ]
  },
  {
   "cell_type": "code",
   "execution_count": 4,
   "id": "03a07192",
   "metadata": {},
   "outputs": [
    {
     "data": {
      "text/plain": [
       "()"
      ]
     },
     "execution_count": 4,
     "metadata": {},
     "output_type": "execute_result"
    }
   ],
   "source": [
    "arr1.shape"
   ]
  },
  {
   "cell_type": "code",
   "execution_count": 12,
   "id": "50f3991d",
   "metadata": {},
   "outputs": [
    {
     "data": {
      "text/plain": [
       "0"
      ]
     },
     "execution_count": 12,
     "metadata": {},
     "output_type": "execute_result"
    }
   ],
   "source": [
    "# Get number of diminsions\n",
    "arr1.ndim"
   ]
  },
  {
   "cell_type": "code",
   "execution_count": 6,
   "id": "0867fe86",
   "metadata": {},
   "outputs": [
    {
     "data": {
      "text/plain": [
       "array([1, 2, 3, 4, 5])"
      ]
     },
     "execution_count": 6,
     "metadata": {},
     "output_type": "execute_result"
    }
   ],
   "source": [
    "arr2 = np.array([1, 2, 3, 4, 5])\n",
    "arr2"
   ]
  },
  {
   "cell_type": "code",
   "execution_count": 7,
   "id": "3ff0af54",
   "metadata": {},
   "outputs": [
    {
     "data": {
      "text/plain": [
       "(5,)"
      ]
     },
     "execution_count": 7,
     "metadata": {},
     "output_type": "execute_result"
    }
   ],
   "source": [
    "arr2.shape"
   ]
  },
  {
   "cell_type": "code",
   "execution_count": 13,
   "id": "2aeaf5ed",
   "metadata": {},
   "outputs": [
    {
     "data": {
      "text/plain": [
       "1"
      ]
     },
     "execution_count": 13,
     "metadata": {},
     "output_type": "execute_result"
    }
   ],
   "source": [
    "# Get number of diminsions\n",
    "arr2.ndim"
   ]
  },
  {
   "cell_type": "code",
   "execution_count": 8,
   "id": "fa37bce8",
   "metadata": {},
   "outputs": [
    {
     "data": {
      "text/plain": [
       "array([[1, 2, 3, 4],\n",
       "       [5, 6, 7, 8]])"
      ]
     },
     "execution_count": 8,
     "metadata": {},
     "output_type": "execute_result"
    }
   ],
   "source": [
    "arr3 = np.array([[1,2,3,4], [5, 6, 7, 8]])\n",
    "arr3"
   ]
  },
  {
   "cell_type": "code",
   "execution_count": 9,
   "id": "0a15780e",
   "metadata": {},
   "outputs": [
    {
     "data": {
      "text/plain": [
       "(2, 4)"
      ]
     },
     "execution_count": 9,
     "metadata": {},
     "output_type": "execute_result"
    }
   ],
   "source": [
    "arr3.shape"
   ]
  },
  {
   "cell_type": "code",
   "execution_count": 15,
   "id": "191a4a48",
   "metadata": {},
   "outputs": [
    {
     "data": {
      "text/plain": [
       "2"
      ]
     },
     "execution_count": 15,
     "metadata": {},
     "output_type": "execute_result"
    }
   ],
   "source": [
    "# Get number of diminsions\n",
    "arr3.ndim"
   ]
  },
  {
   "cell_type": "code",
   "execution_count": 10,
   "id": "dafbe51a",
   "metadata": {},
   "outputs": [
    {
     "data": {
      "text/plain": [
       "array([[[1, 2, 3],\n",
       "        [4, 5, 6]],\n",
       "\n",
       "       [[1, 2, 3],\n",
       "        [4, 5, 6]]])"
      ]
     },
     "execution_count": 10,
     "metadata": {},
     "output_type": "execute_result"
    }
   ],
   "source": [
    "arr4 = np.array([[[1, 2, 3], [4, 5, 6]], [[1, 2, 3], [4, 5, 6]]])\n",
    "arr4"
   ]
  },
  {
   "cell_type": "code",
   "execution_count": 16,
   "id": "3a245b9a",
   "metadata": {},
   "outputs": [
    {
     "data": {
      "text/plain": [
       "(2, 2, 3)"
      ]
     },
     "execution_count": 16,
     "metadata": {},
     "output_type": "execute_result"
    }
   ],
   "source": [
    "arr4.shape"
   ]
  },
  {
   "cell_type": "code",
   "execution_count": 17,
   "id": "ed485fb4",
   "metadata": {},
   "outputs": [
    {
     "data": {
      "text/plain": [
       "3"
      ]
     },
     "execution_count": 17,
     "metadata": {},
     "output_type": "execute_result"
    }
   ],
   "source": [
    "arr4.ndim"
   ]
  },
  {
   "cell_type": "markdown",
   "id": "0f480fab",
   "metadata": {},
   "source": [
    "### Create an array with 5 dimensions and verify that it has 5 dimensions"
   ]
  },
  {
   "cell_type": "code",
   "execution_count": 18,
   "id": "9b79ad07",
   "metadata": {},
   "outputs": [
    {
     "data": {
      "text/plain": [
       "array([[[[[1, 2, 3, 4]]]]])"
      ]
     },
     "execution_count": 18,
     "metadata": {},
     "output_type": "execute_result"
    }
   ],
   "source": [
    "arr5 = np.array([1, 2, 3, 4], ndmin=5)\n",
    "arr5"
   ]
  },
  {
   "cell_type": "markdown",
   "id": "b95b4df3",
   "metadata": {},
   "source": [
    "# Array Indexing"
   ]
  },
  {
   "cell_type": "code",
   "execution_count": 20,
   "id": "1e748500",
   "metadata": {},
   "outputs": [
    {
     "data": {
      "text/plain": [
       "1"
      ]
     },
     "execution_count": 20,
     "metadata": {},
     "output_type": "execute_result"
    }
   ],
   "source": [
    "arr2[0]"
   ]
  },
  {
   "cell_type": "code",
   "execution_count": 22,
   "id": "dc808c17",
   "metadata": {},
   "outputs": [
    {
     "data": {
      "text/plain": [
       "array([5, 6, 7, 8])"
      ]
     },
     "execution_count": 22,
     "metadata": {},
     "output_type": "execute_result"
    }
   ],
   "source": [
    "arr3[1]"
   ]
  },
  {
   "cell_type": "code",
   "execution_count": 23,
   "id": "0100099d",
   "metadata": {},
   "outputs": [
    {
     "data": {
      "text/plain": [
       "7"
      ]
     },
     "execution_count": 23,
     "metadata": {},
     "output_type": "execute_result"
    }
   ],
   "source": [
    "arr3[1,2]"
   ]
  },
  {
   "cell_type": "code",
   "execution_count": 25,
   "id": "e7648669",
   "metadata": {},
   "outputs": [
    {
     "data": {
      "text/plain": [
       "array([1, 2, 3, 4])"
      ]
     },
     "execution_count": 25,
     "metadata": {},
     "output_type": "execute_result"
    }
   ],
   "source": [
    "arr5[0,0,0,0]"
   ]
  },
  {
   "cell_type": "code",
   "execution_count": 26,
   "id": "0c16fbe2",
   "metadata": {},
   "outputs": [
    {
     "data": {
      "text/plain": [
       "1"
      ]
     },
     "execution_count": 26,
     "metadata": {},
     "output_type": "execute_result"
    }
   ],
   "source": [
    "arr5[0,0,0,0,0]"
   ]
  },
  {
   "cell_type": "code",
   "execution_count": 29,
   "id": "1e8c95c6",
   "metadata": {},
   "outputs": [
    {
     "data": {
      "text/plain": [
       "()"
      ]
     },
     "execution_count": 29,
     "metadata": {},
     "output_type": "execute_result"
    }
   ],
   "source": [
    "arr5[0,0,0,0,0].shape"
   ]
  },
  {
   "cell_type": "code",
   "execution_count": 30,
   "id": "be200aa5",
   "metadata": {},
   "outputs": [
    {
     "data": {
      "text/plain": [
       "0"
      ]
     },
     "execution_count": 30,
     "metadata": {},
     "output_type": "execute_result"
    }
   ],
   "source": [
    "arr5[0,0,0,0,0].ndim"
   ]
  },
  {
   "cell_type": "code",
   "execution_count": 27,
   "id": "c870e665",
   "metadata": {
    "scrolled": true
   },
   "outputs": [
    {
     "data": {
      "text/plain": [
       "(4,)"
      ]
     },
     "execution_count": 27,
     "metadata": {},
     "output_type": "execute_result"
    }
   ],
   "source": [
    "arr5[0,0,0,0].shape"
   ]
  },
  {
   "cell_type": "code",
   "execution_count": 28,
   "id": "1d96f4b2",
   "metadata": {},
   "outputs": [
    {
     "data": {
      "text/plain": [
       "1"
      ]
     },
     "execution_count": 28,
     "metadata": {},
     "output_type": "execute_result"
    }
   ],
   "source": [
    "arr5[0,0,0,0].ndim"
   ]
  },
  {
   "cell_type": "markdown",
   "id": "2188bf8b",
   "metadata": {},
   "source": [
    "# Array Slicing"
   ]
  },
  {
   "cell_type": "code",
   "execution_count": 35,
   "id": "beef58dd",
   "metadata": {},
   "outputs": [
    {
     "data": {
      "text/plain": [
       "array([2, 3])"
      ]
     },
     "execution_count": 35,
     "metadata": {},
     "output_type": "execute_result"
    }
   ],
   "source": [
    "arr2[1:3]"
   ]
  },
  {
   "cell_type": "code",
   "execution_count": 36,
   "id": "1110b4ad",
   "metadata": {},
   "outputs": [
    {
     "data": {
      "text/plain": [
       "array([2, 3, 4, 5])"
      ]
     },
     "execution_count": 36,
     "metadata": {},
     "output_type": "execute_result"
    }
   ],
   "source": [
    "arr2[1:]"
   ]
  },
  {
   "cell_type": "code",
   "execution_count": 38,
   "id": "c564673f",
   "metadata": {},
   "outputs": [
    {
     "data": {
      "text/plain": [
       "array([[5, 6, 7, 8]])"
      ]
     },
     "execution_count": 38,
     "metadata": {},
     "output_type": "execute_result"
    }
   ],
   "source": [
    "arr3[1:]"
   ]
  },
  {
   "cell_type": "code",
   "execution_count": 39,
   "id": "9d9a88bf",
   "metadata": {},
   "outputs": [
    {
     "data": {
      "text/plain": [
       "array([[1, 2, 3, 4]])"
      ]
     },
     "execution_count": 39,
     "metadata": {},
     "output_type": "execute_result"
    }
   ],
   "source": [
    "arr3[:1]"
   ]
  },
  {
   "cell_type": "code",
   "execution_count": 40,
   "id": "1cf77edd",
   "metadata": {},
   "outputs": [
    {
     "data": {
      "text/plain": [
       "array([3, 4])"
      ]
     },
     "execution_count": 40,
     "metadata": {},
     "output_type": "execute_result"
    }
   ],
   "source": [
    "arr2[-3:-1]"
   ]
  },
  {
   "cell_type": "code",
   "execution_count": 41,
   "id": "2b09dd93",
   "metadata": {},
   "outputs": [
    {
     "data": {
      "text/plain": [
       "array([ 1,  2,  3,  4,  5,  6,  7,  8,  9, 10, 11])"
      ]
     },
     "execution_count": 41,
     "metadata": {},
     "output_type": "execute_result"
    }
   ],
   "source": [
    "arr6 = np.array([1, 2, 3, 4, 5, 6, 7, 8, 9, 10, 11])\n",
    "arr6"
   ]
  },
  {
   "cell_type": "code",
   "execution_count": 42,
   "id": "ac7f8456",
   "metadata": {},
   "outputs": [
    {
     "data": {
      "text/plain": [
       "array([], dtype=int32)"
      ]
     },
     "execution_count": 42,
     "metadata": {},
     "output_type": "execute_result"
    }
   ],
   "source": [
    "arr6[-2:-5]"
   ]
  },
  {
   "cell_type": "code",
   "execution_count": 43,
   "id": "9bcf4eba",
   "metadata": {},
   "outputs": [
    {
     "data": {
      "text/plain": [
       "array([7, 8, 9])"
      ]
     },
     "execution_count": 43,
     "metadata": {},
     "output_type": "execute_result"
    }
   ],
   "source": [
    "arr6[-5:-2]"
   ]
  },
  {
   "cell_type": "code",
   "execution_count": 44,
   "id": "91f0a4db",
   "metadata": {},
   "outputs": [
    {
     "data": {
      "text/plain": [
       "array([ 7,  8,  9, 10, 11])"
      ]
     },
     "execution_count": 44,
     "metadata": {},
     "output_type": "execute_result"
    }
   ],
   "source": [
    "arr6[-5:]"
   ]
  },
  {
   "cell_type": "code",
   "execution_count": 45,
   "id": "873abd16",
   "metadata": {},
   "outputs": [
    {
     "data": {
      "text/plain": [
       "array([[ 1,  2,  3,  4,  5],\n",
       "       [ 6,  7,  8,  9, 10]])"
      ]
     },
     "execution_count": 45,
     "metadata": {},
     "output_type": "execute_result"
    }
   ],
   "source": [
    "arr7 = np.array([[1, 2, 3, 4, 5], [6, 7, 8, 9, 10]])\n",
    "arr7"
   ]
  },
  {
   "cell_type": "code",
   "execution_count": 46,
   "id": "d31eb99b",
   "metadata": {},
   "outputs": [
    {
     "data": {
      "text/plain": [
       "array([[2, 3, 4],\n",
       "       [7, 8, 9]])"
      ]
     },
     "execution_count": 46,
     "metadata": {},
     "output_type": "execute_result"
    }
   ],
   "source": [
    "arr7[0:2, 1:4]"
   ]
  },
  {
   "cell_type": "markdown",
   "id": "4112fac7",
   "metadata": {},
   "source": [
    "# Data Types"
   ]
  },
  {
   "cell_type": "code",
   "execution_count": 47,
   "id": "a1ac5f34",
   "metadata": {},
   "outputs": [
    {
     "data": {
      "text/plain": [
       "dtype('int32')"
      ]
     },
     "execution_count": 47,
     "metadata": {},
     "output_type": "execute_result"
    }
   ],
   "source": [
    "arr7.dtype"
   ]
  },
  {
   "cell_type": "code",
   "execution_count": 48,
   "id": "4dccca26",
   "metadata": {},
   "outputs": [
    {
     "data": {
      "text/plain": [
       "array(['apple', 'banana', 'cherry'], dtype='<U6')"
      ]
     },
     "execution_count": 48,
     "metadata": {},
     "output_type": "execute_result"
    }
   ],
   "source": [
    "arr8 = np.array(['apple', 'banana', 'cherry'])\n",
    "arr8"
   ]
  },
  {
   "cell_type": "code",
   "execution_count": 49,
   "id": "b8ff9812",
   "metadata": {},
   "outputs": [
    {
     "data": {
      "text/plain": [
       "array([b'1', b'2', b'3', b'4'], dtype='|S1')"
      ]
     },
     "execution_count": 49,
     "metadata": {},
     "output_type": "execute_result"
    }
   ],
   "source": [
    "arr9 = np.array([1, 2, 3, 4], dtype='S')\n",
    "arr9"
   ]
  },
  {
   "cell_type": "code",
   "execution_count": 50,
   "id": "ad12aaaa",
   "metadata": {},
   "outputs": [
    {
     "data": {
      "text/plain": [
       "b'2'"
      ]
     },
     "execution_count": 50,
     "metadata": {},
     "output_type": "execute_result"
    }
   ],
   "source": [
    "arr9[1]"
   ]
  },
  {
   "cell_type": "code",
   "execution_count": 51,
   "id": "e425ceef",
   "metadata": {},
   "outputs": [
    {
     "data": {
      "text/plain": [
       "\"b'2'\""
      ]
     },
     "execution_count": 51,
     "metadata": {},
     "output_type": "execute_result"
    }
   ],
   "source": [
    "str(arr9[1])"
   ]
  },
  {
   "cell_type": "markdown",
   "id": "ff5b4710",
   "metadata": {},
   "source": [
    "# Array Copy vs View"
   ]
  },
  {
   "cell_type": "markdown",
   "id": "00f8a365",
   "metadata": {},
   "source": [
    "### The copy is a new array, and the view is just a view of the original array."
   ]
  },
  {
   "cell_type": "code",
   "execution_count": 63,
   "id": "c428872b",
   "metadata": {},
   "outputs": [
    {
     "name": "stdout",
     "output_type": "stream",
     "text": [
      "None\n",
      "[1 2 3 4 5]\n"
     ]
    }
   ],
   "source": [
    "arr10 = np.array([1, 2, 3, 4, 5])\n",
    "\n",
    "x = arr10.copy()\n",
    "y = arr10.view()\n",
    "\n",
    "print(x.base)\n",
    "print(y.base)"
   ]
  },
  {
   "cell_type": "code",
   "execution_count": 58,
   "id": "4a3776ab",
   "metadata": {},
   "outputs": [
    {
     "data": {
      "text/plain": [
       "array([10,  2,  3,  4,  5])"
      ]
     },
     "execution_count": 58,
     "metadata": {},
     "output_type": "execute_result"
    }
   ],
   "source": [
    "y[0] = 10\n",
    "y"
   ]
  },
  {
   "cell_type": "code",
   "execution_count": 64,
   "id": "78b62f98",
   "metadata": {},
   "outputs": [
    {
     "data": {
      "text/plain": [
       "array([1, 2, 3, 4, 5])"
      ]
     },
     "execution_count": 64,
     "metadata": {},
     "output_type": "execute_result"
    }
   ],
   "source": [
    "arr10"
   ]
  },
  {
   "cell_type": "code",
   "execution_count": 60,
   "id": "dd0b4c8f",
   "metadata": {},
   "outputs": [
    {
     "data": {
      "text/plain": [
       "array([1, 2, 3, 4, 5])"
      ]
     },
     "execution_count": 60,
     "metadata": {},
     "output_type": "execute_result"
    }
   ],
   "source": [
    "x"
   ]
  },
  {
   "cell_type": "code",
   "execution_count": 61,
   "id": "2a909aab",
   "metadata": {},
   "outputs": [
    {
     "data": {
      "text/plain": [
       "array([ 1,  2,  3, 20,  5])"
      ]
     },
     "execution_count": 61,
     "metadata": {},
     "output_type": "execute_result"
    }
   ],
   "source": [
    "x[3]= 20\n",
    "x"
   ]
  },
  {
   "cell_type": "code",
   "execution_count": 65,
   "id": "e8111ba0",
   "metadata": {},
   "outputs": [
    {
     "data": {
      "text/plain": [
       "array([1, 2, 3, 4, 5])"
      ]
     },
     "execution_count": 65,
     "metadata": {},
     "output_type": "execute_result"
    }
   ],
   "source": [
    "arr10"
   ]
  },
  {
   "cell_type": "code",
   "execution_count": 70,
   "id": "91d02471",
   "metadata": {},
   "outputs": [
    {
     "data": {
      "text/plain": [
       "array([ 1,  2,  3,  4,  5,  6,  7,  8,  9, 10, 11, 12])"
      ]
     },
     "execution_count": 70,
     "metadata": {},
     "output_type": "execute_result"
    }
   ],
   "source": [
    "arr11 = np.array([1, 2, 3, 4, 5, 6, 7, 8, 9, 10, 11,12])\n",
    "arr11"
   ]
  },
  {
   "cell_type": "code",
   "execution_count": 71,
   "id": "6103ffe7",
   "metadata": {},
   "outputs": [
    {
     "data": {
      "text/plain": [
       "array([[ 1,  2,  3],\n",
       "       [ 4,  5,  6],\n",
       "       [ 7,  8,  9],\n",
       "       [10, 11, 12]])"
      ]
     },
     "execution_count": 71,
     "metadata": {},
     "output_type": "execute_result"
    }
   ],
   "source": [
    "newarr = arr11.reshape(4, 3)\n",
    "newarr"
   ]
  },
  {
   "cell_type": "code",
   "execution_count": 73,
   "id": "f419dd0d",
   "metadata": {},
   "outputs": [
    {
     "data": {
      "text/plain": [
       "array([[[ 1,  2],\n",
       "        [ 3,  4],\n",
       "        [ 5,  6]],\n",
       "\n",
       "       [[ 7,  8],\n",
       "        [ 9, 10],\n",
       "        [11, 12]]])"
      ]
     },
     "execution_count": 73,
     "metadata": {},
     "output_type": "execute_result"
    }
   ],
   "source": [
    "newarr2 = arr11.reshape(2, 3, 2)\n",
    "newarr2"
   ]
  },
  {
   "cell_type": "markdown",
   "id": "b02eb394",
   "metadata": {},
   "source": [
    "# Flattening the arrays"
   ]
  },
  {
   "cell_type": "code",
   "execution_count": 74,
   "id": "b371e15d",
   "metadata": {},
   "outputs": [
    {
     "data": {
      "text/plain": [
       "array([[1, 2, 3, 4],\n",
       "       [5, 6, 7, 8]])"
      ]
     },
     "execution_count": 74,
     "metadata": {},
     "output_type": "execute_result"
    }
   ],
   "source": [
    "arr3"
   ]
  },
  {
   "cell_type": "code",
   "execution_count": 75,
   "id": "d2a78a57",
   "metadata": {},
   "outputs": [
    {
     "data": {
      "text/plain": [
       "array([1, 2, 3, 4, 5, 6, 7, 8])"
      ]
     },
     "execution_count": 75,
     "metadata": {},
     "output_type": "execute_result"
    }
   ],
   "source": [
    "arr3.reshape(-1)"
   ]
  },
  {
   "cell_type": "code",
   "execution_count": 78,
   "id": "75a739ff",
   "metadata": {},
   "outputs": [
    {
     "data": {
      "text/plain": [
       "array([[1, 2, 3, 4],\n",
       "       [5, 6, 7, 8]])"
      ]
     },
     "execution_count": 78,
     "metadata": {},
     "output_type": "execute_result"
    }
   ],
   "source": [
    "arr3"
   ]
  },
  {
   "cell_type": "code",
   "execution_count": 76,
   "id": "7c0610c4",
   "metadata": {},
   "outputs": [
    {
     "data": {
      "text/plain": [
       "array([[[[[1, 2, 3, 4]]]]])"
      ]
     },
     "execution_count": 76,
     "metadata": {},
     "output_type": "execute_result"
    }
   ],
   "source": [
    "arr5"
   ]
  },
  {
   "cell_type": "code",
   "execution_count": 77,
   "id": "bf53c104",
   "metadata": {},
   "outputs": [
    {
     "data": {
      "text/plain": [
       "array([1, 2, 3, 4])"
      ]
     },
     "execution_count": 77,
     "metadata": {},
     "output_type": "execute_result"
    }
   ],
   "source": [
    "arr5.reshape(-1)"
   ]
  },
  {
   "cell_type": "code",
   "execution_count": 79,
   "id": "e29add91",
   "metadata": {},
   "outputs": [
    {
     "data": {
      "text/plain": [
       "array([[[[[1, 2, 3, 4]]]]])"
      ]
     },
     "execution_count": 79,
     "metadata": {},
     "output_type": "execute_result"
    }
   ],
   "source": [
    "arr5"
   ]
  },
  {
   "cell_type": "markdown",
   "id": "08ac8a85",
   "metadata": {},
   "source": [
    "# Array Iterating"
   ]
  },
  {
   "cell_type": "code",
   "execution_count": 80,
   "id": "27cba384",
   "metadata": {},
   "outputs": [
    {
     "data": {
      "text/plain": [
       "array([[[1, 2, 3],\n",
       "        [4, 5, 6]],\n",
       "\n",
       "       [[1, 2, 3],\n",
       "        [4, 5, 6]]])"
      ]
     },
     "execution_count": 80,
     "metadata": {},
     "output_type": "execute_result"
    }
   ],
   "source": [
    "arr4"
   ]
  },
  {
   "cell_type": "code",
   "execution_count": 81,
   "id": "c2465f06",
   "metadata": {},
   "outputs": [
    {
     "data": {
      "text/plain": [
       "(2, 2, 3)"
      ]
     },
     "execution_count": 81,
     "metadata": {},
     "output_type": "execute_result"
    }
   ],
   "source": [
    "arr4.shape"
   ]
  },
  {
   "cell_type": "code",
   "execution_count": 85,
   "id": "250d6882",
   "metadata": {},
   "outputs": [],
   "source": [
    "import time"
   ]
  },
  {
   "cell_type": "code",
   "execution_count": 86,
   "id": "ed8f31e4",
   "metadata": {},
   "outputs": [
    {
     "name": "stdout",
     "output_type": "stream",
     "text": [
      "1\n",
      "2\n",
      "3\n",
      "4\n",
      "5\n",
      "6\n",
      "1\n",
      "2\n",
      "3\n",
      "4\n",
      "5\n",
      "6\n",
      "0.0010123252868652344\n"
     ]
    }
   ],
   "source": [
    "t0 = time.time()\n",
    "for x in arr4:\n",
    "    for y in x:\n",
    "        for z in y:\n",
    "            print(z)\n",
    "t1 = time.time()\n",
    "print(t1 - t0)"
   ]
  },
  {
   "cell_type": "code",
   "execution_count": 88,
   "id": "81f49a4c",
   "metadata": {},
   "outputs": [
    {
     "name": "stdout",
     "output_type": "stream",
     "text": [
      "1\n",
      "2\n",
      "3\n",
      "4\n",
      "5\n",
      "6\n",
      "1\n",
      "2\n",
      "3\n",
      "4\n",
      "5\n",
      "6\n",
      "0.0009658336639404297\n"
     ]
    }
   ],
   "source": [
    "t0 = time.time()\n",
    "flattenArr4 = arr4.reshape(-1)\n",
    "for i in flattenArr4:\n",
    "    print(i)\n",
    "t1 = time.time()\n",
    "print(t1 - t0)"
   ]
  },
  {
   "cell_type": "markdown",
   "id": "e04c13d7",
   "metadata": {},
   "source": [
    "## Iterating Arrays Using nditer()"
   ]
  },
  {
   "cell_type": "code",
   "execution_count": 91,
   "id": "d5213759",
   "metadata": {},
   "outputs": [
    {
     "data": {
      "text/plain": [
       "array([[[1, 2, 3],\n",
       "        [4, 5, 6]],\n",
       "\n",
       "       [[1, 2, 3],\n",
       "        [4, 5, 6]]])"
      ]
     },
     "execution_count": 91,
     "metadata": {},
     "output_type": "execute_result"
    }
   ],
   "source": [
    "arr4"
   ]
  },
  {
   "cell_type": "code",
   "execution_count": 92,
   "id": "97ec69f9",
   "metadata": {},
   "outputs": [
    {
     "data": {
      "text/plain": [
       "(2, 2, 3)"
      ]
     },
     "execution_count": 92,
     "metadata": {},
     "output_type": "execute_result"
    }
   ],
   "source": [
    "arr4.shape"
   ]
  },
  {
   "cell_type": "code",
   "execution_count": 89,
   "id": "acdde4fe",
   "metadata": {},
   "outputs": [
    {
     "name": "stdout",
     "output_type": "stream",
     "text": [
      "1\n",
      "2\n",
      "3\n",
      "4\n",
      "5\n",
      "6\n",
      "1\n",
      "2\n",
      "3\n",
      "4\n",
      "5\n",
      "6\n",
      "0.0009968280792236328\n"
     ]
    }
   ],
   "source": [
    "t0 = time.time()\n",
    "for x in np.nditer(arr4):\n",
    "    print(x)\n",
    "t1 = time.time()\n",
    "print(t1 - t0)"
   ]
  },
  {
   "cell_type": "code",
   "execution_count": 93,
   "id": "756c7bed",
   "metadata": {},
   "outputs": [
    {
     "name": "stdout",
     "output_type": "stream",
     "text": [
      "1\n",
      "3\n",
      "4\n",
      "6\n",
      "1\n",
      "3\n",
      "4\n",
      "6\n"
     ]
    }
   ],
   "source": [
    "for x in np.nditer(arr4[:, :, ::2]):\n",
    "    print(x)"
   ]
  },
  {
   "cell_type": "markdown",
   "id": "3de65719",
   "metadata": {},
   "source": [
    "## Enumerated Iteration Using ndenumerate()"
   ]
  },
  {
   "cell_type": "markdown",
   "id": "cf278dc7",
   "metadata": {},
   "source": [
    "### Get numer with its index"
   ]
  },
  {
   "cell_type": "code",
   "execution_count": 96,
   "id": "fbf9eb38",
   "metadata": {},
   "outputs": [
    {
     "name": "stdout",
     "output_type": "stream",
     "text": [
      "(0,) 1\n",
      "(1,) 2\n",
      "(2,) 3\n"
     ]
    }
   ],
   "source": [
    "arr12 = np.array([1, 2, 3])\n",
    "\n",
    "for idx, x in np.ndenumerate(arr12):\n",
    "    print(idx, x)"
   ]
  },
  {
   "cell_type": "code",
   "execution_count": 97,
   "id": "7042bcf9",
   "metadata": {},
   "outputs": [
    {
     "data": {
      "text/plain": [
       "<numpy.ndenumerate at 0x23f0dc58280>"
      ]
     },
     "execution_count": 97,
     "metadata": {},
     "output_type": "execute_result"
    }
   ],
   "source": [
    "np.ndenumerate(arr12)"
   ]
  },
  {
   "cell_type": "code",
   "execution_count": 98,
   "id": "44886098",
   "metadata": {},
   "outputs": [
    {
     "data": {
      "text/plain": [
       "[((0,), 1), ((1,), 2), ((2,), 3)]"
      ]
     },
     "execution_count": 98,
     "metadata": {},
     "output_type": "execute_result"
    }
   ],
   "source": [
    "list(np.ndenumerate(arr12))"
   ]
  },
  {
   "cell_type": "markdown",
   "id": "82f6ad81",
   "metadata": {},
   "source": [
    "# Joining Arrays"
   ]
  },
  {
   "cell_type": "code",
   "execution_count": 99,
   "id": "8b7b31a2",
   "metadata": {},
   "outputs": [
    {
     "data": {
      "text/plain": [
       "array([1, 2, 3, 4, 5, 6])"
      ]
     },
     "execution_count": 99,
     "metadata": {},
     "output_type": "execute_result"
    }
   ],
   "source": [
    "arr1 = np.array([1, 2, 3])\n",
    "\n",
    "arr2 = np.array([4, 5, 6])\n",
    "\n",
    "arr1_2 = np.concatenate((arr1, arr2))\n",
    "arr1_2"
   ]
  },
  {
   "cell_type": "code",
   "execution_count": 109,
   "id": "b55dc023",
   "metadata": {},
   "outputs": [
    {
     "data": {
      "text/plain": [
       "array([[1, 2],\n",
       "       [3, 4],\n",
       "       [5, 6],\n",
       "       [7, 8]])"
      ]
     },
     "execution_count": 109,
     "metadata": {},
     "output_type": "execute_result"
    }
   ],
   "source": [
    "arr1 = np.array([[1, 2], [3, 4]])\n",
    "\n",
    "arr2 = np.array([[5, 6], [7, 8]])\n",
    "\n",
    "arr1_2 = np.concatenate((arr1, arr2), axis=0)\n",
    "arr1_2"
   ]
  },
  {
   "cell_type": "code",
   "execution_count": 110,
   "id": "fd24d258",
   "metadata": {},
   "outputs": [
    {
     "data": {
      "text/plain": [
       "(4, 2)"
      ]
     },
     "execution_count": 110,
     "metadata": {},
     "output_type": "execute_result"
    }
   ],
   "source": [
    "arr1_2.shape"
   ]
  },
  {
   "cell_type": "code",
   "execution_count": 111,
   "id": "633225f6",
   "metadata": {},
   "outputs": [
    {
     "data": {
      "text/plain": [
       "array([[1, 2, 5, 6],\n",
       "       [3, 4, 7, 8]])"
      ]
     },
     "execution_count": 111,
     "metadata": {},
     "output_type": "execute_result"
    }
   ],
   "source": [
    "arr1 = np.array([[1, 2], [3, 4]])\n",
    "\n",
    "arr2 = np.array([[5, 6], [7, 8]])\n",
    "\n",
    "arr1_2 = np.concatenate((arr1, arr2), axis=1)\n",
    "arr1_2"
   ]
  },
  {
   "cell_type": "code",
   "execution_count": 112,
   "id": "f42d7aff",
   "metadata": {},
   "outputs": [
    {
     "data": {
      "text/plain": [
       "(2, 4)"
      ]
     },
     "execution_count": 112,
     "metadata": {},
     "output_type": "execute_result"
    }
   ],
   "source": [
    "arr1_2.shape"
   ]
  },
  {
   "cell_type": "markdown",
   "id": "85c3ada6",
   "metadata": {},
   "source": [
    "## Stacking Along Rows"
   ]
  },
  {
   "cell_type": "code",
   "execution_count": 113,
   "id": "8388de5b",
   "metadata": {},
   "outputs": [
    {
     "data": {
      "text/plain": [
       "array([1, 2, 3, 4, 5, 6])"
      ]
     },
     "execution_count": 113,
     "metadata": {},
     "output_type": "execute_result"
    }
   ],
   "source": [
    "import numpy as np\n",
    "\n",
    "arr1 = np.array([1, 2, 3])\n",
    "\n",
    "arr2 = np.array([4, 5, 6])\n",
    "\n",
    "arr1_2 = np.hstack((arr1, arr2))\n",
    "arr1_2"
   ]
  },
  {
   "cell_type": "code",
   "execution_count": 115,
   "id": "7fb568d5",
   "metadata": {},
   "outputs": [
    {
     "data": {
      "text/plain": [
       "array([[1, 2, 5, 6],\n",
       "       [3, 4, 7, 8]])"
      ]
     },
     "execution_count": 115,
     "metadata": {},
     "output_type": "execute_result"
    }
   ],
   "source": [
    "arr1 = np.array([[1, 2], [3, 4]])\n",
    "\n",
    "arr2 = np.array([[5, 6], [7, 8]])\n",
    "\n",
    "arr1_2 = np.hstack((arr1, arr2))\n",
    "arr1_2"
   ]
  },
  {
   "cell_type": "markdown",
   "id": "1ddc8634",
   "metadata": {},
   "source": [
    "## Stacking Along Columns"
   ]
  },
  {
   "cell_type": "code",
   "execution_count": 116,
   "id": "20deb094",
   "metadata": {},
   "outputs": [
    {
     "data": {
      "text/plain": [
       "array([[1, 2, 3],\n",
       "       [4, 5, 6]])"
      ]
     },
     "execution_count": 116,
     "metadata": {},
     "output_type": "execute_result"
    }
   ],
   "source": [
    "arr1 = np.array([1, 2, 3])\n",
    "\n",
    "arr2 = np.array([4, 5, 6])\n",
    "\n",
    "arr1_2 = np.vstack((arr1, arr2))\n",
    "arr1_2"
   ]
  },
  {
   "cell_type": "code",
   "execution_count": 117,
   "id": "f153140a",
   "metadata": {},
   "outputs": [
    {
     "data": {
      "text/plain": [
       "array([[1, 2],\n",
       "       [3, 4],\n",
       "       [5, 6],\n",
       "       [7, 8]])"
      ]
     },
     "execution_count": 117,
     "metadata": {},
     "output_type": "execute_result"
    }
   ],
   "source": [
    "arr1 = np.array([[1, 2], [3, 4]])\n",
    "\n",
    "arr2 = np.array([[5, 6], [7, 8]])\n",
    "\n",
    "arr1_2 = np.vstack((arr1, arr2))\n",
    "arr1_2"
   ]
  },
  {
   "cell_type": "markdown",
   "id": "f39ff0b8",
   "metadata": {},
   "source": [
    "## Stacking Along Height (depth)"
   ]
  },
  {
   "cell_type": "code",
   "execution_count": 118,
   "id": "7fb30fc3",
   "metadata": {},
   "outputs": [
    {
     "data": {
      "text/plain": [
       "array([[[1, 4],\n",
       "        [2, 5],\n",
       "        [3, 6]]])"
      ]
     },
     "execution_count": 118,
     "metadata": {},
     "output_type": "execute_result"
    }
   ],
   "source": [
    "arr1 = np.array([1, 2, 3])\n",
    "\n",
    "arr2 = np.array([4, 5, 6])\n",
    "\n",
    "arr1_2 = np.dstack((arr1, arr2))\n",
    "arr1_2"
   ]
  },
  {
   "cell_type": "code",
   "execution_count": 119,
   "id": "3575017f",
   "metadata": {},
   "outputs": [
    {
     "data": {
      "text/plain": [
       "array([[[1, 5],\n",
       "        [2, 6]],\n",
       "\n",
       "       [[3, 7],\n",
       "        [4, 8]]])"
      ]
     },
     "execution_count": 119,
     "metadata": {},
     "output_type": "execute_result"
    }
   ],
   "source": [
    "arr1 = np.array([[1, 2], [3, 4]])\n",
    "\n",
    "arr2 = np.array([[5, 6], [7, 8]])\n",
    "\n",
    "arr1_2 = np.dstack((arr1, arr2))\n",
    "arr1_2"
   ]
  },
  {
   "cell_type": "markdown",
   "id": "c1548903",
   "metadata": {},
   "source": [
    "## Splitting Array"
   ]
  },
  {
   "cell_type": "code",
   "execution_count": 121,
   "id": "5aec22de",
   "metadata": {},
   "outputs": [
    {
     "data": {
      "text/plain": [
       "[array([1, 2]), array([3, 4]), array([5, 6])]"
      ]
     },
     "execution_count": 121,
     "metadata": {},
     "output_type": "execute_result"
    }
   ],
   "source": [
    "arr = np.array([1, 2, 3, 4, 5, 6])\n",
    "split_arr = np.array_split(arr, 3)\n",
    "split_arr"
   ]
  },
  {
   "cell_type": "code",
   "execution_count": 122,
   "id": "9cfbf437",
   "metadata": {},
   "outputs": [
    {
     "data": {
      "text/plain": [
       "[array([1, 2]), array([3]), array([4]), array([5]), array([6])]"
      ]
     },
     "execution_count": 122,
     "metadata": {},
     "output_type": "execute_result"
    }
   ],
   "source": [
    "arr = np.array([1, 2, 3, 4, 5, 6])\n",
    "split_arr = np.array_split(arr, 5)\n",
    "split_arr"
   ]
  },
  {
   "cell_type": "code",
   "execution_count": 125,
   "id": "65c7e7c9",
   "metadata": {},
   "outputs": [
    {
     "data": {
      "text/plain": [
       "[array([[1, 2, 3],\n",
       "        [4, 5, 6]]),\n",
       " array([[ 7,  8,  9],\n",
       "        [10, 11, 12]]),\n",
       " array([[13, 14, 15],\n",
       "        [16, 17, 18]])]"
      ]
     },
     "execution_count": 125,
     "metadata": {},
     "output_type": "execute_result"
    }
   ],
   "source": [
    "arr = np.array([[1, 2, 3], [4, 5, 6], [7, 8, 9], [10, 11, 12], [13, 14, 15], [16, 17, 18]])\n",
    "\n",
    "split_arr = np.array_split(arr, 3)\n",
    "split_arr"
   ]
  },
  {
   "cell_type": "code",
   "execution_count": 127,
   "id": "e7173934",
   "metadata": {},
   "outputs": [
    {
     "data": {
      "text/plain": [
       "[array([[1, 2, 3]]),\n",
       " array([[4, 5, 6]]),\n",
       " array([[7, 8, 9]]),\n",
       " array([[10, 11, 12]]),\n",
       " array([[13, 14, 15]]),\n",
       " array([[16, 17, 18]])]"
      ]
     },
     "execution_count": 127,
     "metadata": {},
     "output_type": "execute_result"
    }
   ],
   "source": [
    "split_arr = np.array_split(arr, 6)\n",
    "split_arr"
   ]
  },
  {
   "cell_type": "code",
   "execution_count": 131,
   "id": "9efc99b1",
   "metadata": {},
   "outputs": [
    {
     "data": {
      "text/plain": [
       "[array([[ 1],\n",
       "        [ 4],\n",
       "        [ 7],\n",
       "        [10],\n",
       "        [13],\n",
       "        [16]]),\n",
       " array([[ 2],\n",
       "        [ 5],\n",
       "        [ 8],\n",
       "        [11],\n",
       "        [14],\n",
       "        [17]]),\n",
       " array([[ 3],\n",
       "        [ 6],\n",
       "        [ 9],\n",
       "        [12],\n",
       "        [15],\n",
       "        [18]])]"
      ]
     },
     "execution_count": 131,
     "metadata": {},
     "output_type": "execute_result"
    }
   ],
   "source": [
    "arr = np.array([[1, 2, 3], [4, 5, 6], [7, 8, 9], [10, 11, 12], [13, 14, 15], [16, 17, 18]])\n",
    "\n",
    "split_arr = np.array_split(arr, 3, axis=1)\n",
    "split_arr"
   ]
  },
  {
   "cell_type": "markdown",
   "id": "83cf9281",
   "metadata": {},
   "source": [
    "# Searching Arrays"
   ]
  },
  {
   "cell_type": "code",
   "execution_count": 132,
   "id": "46c5b9a9",
   "metadata": {},
   "outputs": [
    {
     "data": {
      "text/plain": [
       "(array([3, 5, 6], dtype=int64),)"
      ]
     },
     "execution_count": 132,
     "metadata": {},
     "output_type": "execute_result"
    }
   ],
   "source": [
    "arr = np.array([1, 2, 3, 4, 5, 4, 4])\n",
    "\n",
    "i = np.where(arr == 4)\n",
    "i"
   ]
  },
  {
   "cell_type": "code",
   "execution_count": 133,
   "id": "2a8bc693",
   "metadata": {},
   "outputs": [
    {
     "data": {
      "text/plain": [
       "(array([1, 3, 5, 7], dtype=int64),)"
      ]
     },
     "execution_count": 133,
     "metadata": {},
     "output_type": "execute_result"
    }
   ],
   "source": [
    "arr = np.array([1, 2, 3, 4, 5, 6, 7, 8])\n",
    "\n",
    "i = np.where(arr%2 == 0)\n",
    "i"
   ]
  },
  {
   "cell_type": "code",
   "execution_count": 134,
   "id": "df675bc7",
   "metadata": {},
   "outputs": [
    {
     "data": {
      "text/plain": [
       "1"
      ]
     },
     "execution_count": 134,
     "metadata": {},
     "output_type": "execute_result"
    }
   ],
   "source": [
    "arr = np.array([6, 7, 8, 9])\n",
    "\n",
    "i = np.searchsorted(arr, 7)\n",
    "\n",
    "i"
   ]
  },
  {
   "cell_type": "code",
   "execution_count": 135,
   "id": "b6d37c0a",
   "metadata": {},
   "outputs": [
    {
     "data": {
      "text/plain": [
       "2"
      ]
     },
     "execution_count": 135,
     "metadata": {},
     "output_type": "execute_result"
    }
   ],
   "source": [
    "arr = np.array([6, 7, 8, 9])\n",
    "i = np.searchsorted(arr, 7, side='right')\n",
    "i"
   ]
  },
  {
   "cell_type": "markdown",
   "id": "ca2d8a4c",
   "metadata": {},
   "source": [
    "### Multiple Values"
   ]
  },
  {
   "cell_type": "code",
   "execution_count": 136,
   "id": "17d2f3fb",
   "metadata": {},
   "outputs": [
    {
     "data": {
      "text/plain": [
       "array([1, 2, 3], dtype=int64)"
      ]
     },
     "execution_count": 136,
     "metadata": {},
     "output_type": "execute_result"
    }
   ],
   "source": [
    "arr = np.array([1, 3, 5, 7])\n",
    "indices = np.searchsorted(arr, [2, 4, 6])\n",
    "indices"
   ]
  },
  {
   "cell_type": "markdown",
   "id": "c376c4ce",
   "metadata": {},
   "source": [
    "# Sorting Arrays"
   ]
  },
  {
   "cell_type": "code",
   "execution_count": 137,
   "id": "78fe9906",
   "metadata": {},
   "outputs": [
    {
     "data": {
      "text/plain": [
       "array([0, 1, 2, 3])"
      ]
     },
     "execution_count": 137,
     "metadata": {},
     "output_type": "execute_result"
    }
   ],
   "source": [
    "arr = np.array([3, 2, 0, 1])\n",
    "np.sort(arr)"
   ]
  },
  {
   "cell_type": "code",
   "execution_count": 138,
   "id": "690ba84d",
   "metadata": {},
   "outputs": [
    {
     "data": {
      "text/plain": [
       "array([3, 2, 0, 1])"
      ]
     },
     "execution_count": 138,
     "metadata": {},
     "output_type": "execute_result"
    }
   ],
   "source": [
    "arr"
   ]
  },
  {
   "cell_type": "code",
   "execution_count": 139,
   "id": "99e185d3",
   "metadata": {},
   "outputs": [
    {
     "data": {
      "text/plain": [
       "array(['apple', 'banana', 'cherry'], dtype='<U6')"
      ]
     },
     "execution_count": 139,
     "metadata": {},
     "output_type": "execute_result"
    }
   ],
   "source": [
    "arr = np.array(['banana', 'cherry', 'apple'])\n",
    "np.sort(arr)"
   ]
  },
  {
   "cell_type": "code",
   "execution_count": 140,
   "id": "a89c2a9d",
   "metadata": {},
   "outputs": [
    {
     "data": {
      "text/plain": [
       "array([False,  True,  True])"
      ]
     },
     "execution_count": 140,
     "metadata": {},
     "output_type": "execute_result"
    }
   ],
   "source": [
    "arr = np.array([True, False, True])\n",
    "np.sort(arr)"
   ]
  },
  {
   "cell_type": "code",
   "execution_count": 141,
   "id": "6701e55b",
   "metadata": {},
   "outputs": [
    {
     "data": {
      "text/plain": [
       "array([[2, 3, 4],\n",
       "       [0, 1, 5]])"
      ]
     },
     "execution_count": 141,
     "metadata": {},
     "output_type": "execute_result"
    }
   ],
   "source": [
    "arr = np.array([[3, 2, 4], [5, 0, 1]])\n",
    "np.sort(arr)"
   ]
  },
  {
   "cell_type": "markdown",
   "id": "7803403c",
   "metadata": {},
   "source": [
    "# Filtering Arrays"
   ]
  },
  {
   "cell_type": "code",
   "execution_count": 142,
   "id": "36339286",
   "metadata": {},
   "outputs": [
    {
     "data": {
      "text/plain": [
       "array([41, 43])"
      ]
     },
     "execution_count": 142,
     "metadata": {},
     "output_type": "execute_result"
    }
   ],
   "source": [
    "arr = np.array([41, 42, 43, 44])\n",
    "\n",
    "x = [True, False, True, False]\n",
    "\n",
    "filtered_arr = arr[x]\n",
    "filtered_arr"
   ]
  },
  {
   "cell_type": "code",
   "execution_count": 144,
   "id": "09eda2f8",
   "metadata": {},
   "outputs": [
    {
     "data": {
      "text/plain": [
       "array([43, 44])"
      ]
     },
     "execution_count": 144,
     "metadata": {},
     "output_type": "execute_result"
    }
   ],
   "source": [
    "arr[arr>42]"
   ]
  },
  {
   "cell_type": "code",
   "execution_count": null,
   "id": "e1e98abe",
   "metadata": {},
   "outputs": [],
   "source": []
  }
 ],
 "metadata": {
  "kernelspec": {
   "display_name": "Python 3 (ipykernel)",
   "language": "python",
   "name": "python3"
  },
  "language_info": {
   "codemirror_mode": {
    "name": "ipython",
    "version": 3
   },
   "file_extension": ".py",
   "mimetype": "text/x-python",
   "name": "python",
   "nbconvert_exporter": "python",
   "pygments_lexer": "ipython3",
   "version": "3.9.12"
  }
 },
 "nbformat": 4,
 "nbformat_minor": 5
}
