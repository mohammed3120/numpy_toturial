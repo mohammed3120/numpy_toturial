{
 "cells": [
  {
   "cell_type": "code",
   "execution_count": 1,
   "id": "5343f854",
   "metadata": {},
   "outputs": [],
   "source": [
    "import numpy as np"
   ]
  },
  {
   "cell_type": "markdown",
   "id": "78326a0d",
   "metadata": {},
   "source": [
    "# Generate Random Number"
   ]
  },
  {
   "cell_type": "code",
   "execution_count": 2,
   "id": "23e48ed2",
   "metadata": {},
   "outputs": [
    {
     "data": {
      "text/plain": [
       "47"
      ]
     },
     "execution_count": 2,
     "metadata": {},
     "output_type": "execute_result"
    }
   ],
   "source": [
    "x = np.random.randint(100) # x will be in range [0,99]\n",
    "x"
   ]
  },
  {
   "cell_type": "markdown",
   "id": "5d118972",
   "metadata": {},
   "source": [
    "# Generate Random Float"
   ]
  },
  {
   "cell_type": "code",
   "execution_count": 3,
   "id": "87d2b08c",
   "metadata": {},
   "outputs": [
    {
     "data": {
      "text/plain": [
       "0.7500898300729661"
      ]
     },
     "execution_count": 3,
     "metadata": {},
     "output_type": "execute_result"
    }
   ],
   "source": [
    "x = np.random.rand() # x will be in range [0, 1]\n",
    "x"
   ]
  },
  {
   "cell_type": "markdown",
   "id": "919c1c7f",
   "metadata": {},
   "source": [
    "# Generate Random Array"
   ]
  },
  {
   "cell_type": "code",
   "execution_count": 4,
   "id": "90e1730e",
   "metadata": {},
   "outputs": [
    {
     "data": {
      "text/plain": [
       "array([12, 56, 15,  5,  3])"
      ]
     },
     "execution_count": 4,
     "metadata": {},
     "output_type": "execute_result"
    }
   ],
   "source": [
    "# Generate a 1-D array containing 5 random integers from 0 to 99:\n",
    "x = np.random.randint(100, size=(5))\n",
    "x"
   ]
  },
  {
   "cell_type": "code",
   "execution_count": 5,
   "id": "31e59de5",
   "metadata": {},
   "outputs": [
    {
     "data": {
      "text/plain": [
       "array([[74, 87, 25, 45, 71],\n",
       "       [71, 19, 92, 93,  6],\n",
       "       [45, 93, 46, 56, 22]])"
      ]
     },
     "execution_count": 5,
     "metadata": {},
     "output_type": "execute_result"
    }
   ],
   "source": [
    "# Generate a 2-D array with 3 rows, each row containing 5 random integers from 0 to 99:\n",
    "x = np.random.randint(100, size=(3, 5))\n",
    "x"
   ]
  },
  {
   "cell_type": "code",
   "execution_count": 6,
   "id": "eadcf521",
   "metadata": {},
   "outputs": [
    {
     "data": {
      "text/plain": [
       "array([0.4016084 , 0.5328188 , 0.18536105, 0.32192419, 0.46903477])"
      ]
     },
     "execution_count": 6,
     "metadata": {},
     "output_type": "execute_result"
    }
   ],
   "source": [
    "# Generate a 1-D array containing 5 random floats:\n",
    "x = np.random.rand(5)\n",
    "x"
   ]
  },
  {
   "cell_type": "code",
   "execution_count": 7,
   "id": "e45b6e8d",
   "metadata": {},
   "outputs": [
    {
     "data": {
      "text/plain": [
       "array([[0.56402516, 0.63720116, 0.57083402, 0.84988627, 0.49924771],\n",
       "       [0.18050362, 0.03631698, 0.04043709, 0.54194911, 0.57957712],\n",
       "       [0.4813553 , 0.35665601, 0.4980819 , 0.95572478, 0.39235985]])"
      ]
     },
     "execution_count": 7,
     "metadata": {},
     "output_type": "execute_result"
    }
   ],
   "source": [
    "# Generate a 2-D array with 3 rows, each row containing 5 random numbers:\n",
    "x = np.random.rand(3,5)\n",
    "x"
   ]
  },
  {
   "cell_type": "markdown",
   "id": "8203c250",
   "metadata": {},
   "source": [
    "# Generate Random Number From Array"
   ]
  },
  {
   "cell_type": "code",
   "execution_count": 8,
   "id": "a7842fb0",
   "metadata": {},
   "outputs": [
    {
     "data": {
      "text/plain": [
       "5"
      ]
     },
     "execution_count": 8,
     "metadata": {},
     "output_type": "execute_result"
    }
   ],
   "source": [
    "# randomly returns one of the values.\n",
    "x = np.random.choice([3, 5, 7, 9])\n",
    "x"
   ]
  },
  {
   "cell_type": "code",
   "execution_count": 9,
   "id": "d1c936e5",
   "metadata": {},
   "outputs": [
    {
     "data": {
      "text/plain": [
       "array([[3, 3, 7, 5, 5],\n",
       "       [7, 5, 7, 9, 3],\n",
       "       [7, 9, 9, 5, 7]])"
      ]
     },
     "execution_count": 9,
     "metadata": {},
     "output_type": "execute_result"
    }
   ],
   "source": [
    "# Generate a 2-D array that consists of the values in the array parameter (3, 5, 7, and 9):\n",
    "x = np.random.choice([3, 5, 7, 9], size=(3, 5))\n",
    "x"
   ]
  },
  {
   "cell_type": "markdown",
   "id": "de0a53b9",
   "metadata": {},
   "source": [
    "# Random Data Distribution"
   ]
  },
  {
   "cell_type": "markdown",
   "id": "a1be63bb",
   "metadata": {},
   "source": [
    "## A random distribution is a set of random numbers that follow a certain probability density function."
   ]
  },
  {
   "cell_type": "markdown",
   "id": "a82d4985",
   "metadata": {},
   "source": [
    "## Example\n",
    "#### Generate a 1-D array containing 100 values, where each value has to be 3, 5, 7 or 9.\n",
    "\n",
    "#### The probability for the value to be 3 is set to be 0.1\n",
    "\n",
    "#### The probability for the value to be 5 is set to be 0.3\n",
    "\n",
    "#### The probability for the value to be 7 is set to be 0.6\n",
    "\n",
    "#### The probability for the value to be 9 is set to be 0"
   ]
  },
  {
   "cell_type": "code",
   "execution_count": 10,
   "id": "03194917",
   "metadata": {},
   "outputs": [
    {
     "data": {
      "text/plain": [
       "array([7, 7, 5, 5, 7, 5, 7, 5, 7, 3, 5, 3, 7, 7, 5, 7, 7, 7, 7, 5, 5, 5,\n",
       "       7, 7, 7, 7, 7, 7, 3, 7, 7, 7, 7, 7, 7, 7, 3, 5, 5, 7, 7, 7, 7, 5,\n",
       "       7, 7, 7, 3, 5, 7, 5, 7, 3, 7, 7, 7, 7, 7, 5, 7, 7, 3, 7, 7, 7, 7,\n",
       "       5, 5, 5, 3, 7, 7, 7, 7, 3, 7, 7, 7, 7, 7, 7, 7, 5, 7, 7, 7, 5, 7,\n",
       "       7, 7, 5, 7, 7, 5, 7, 7, 5, 7, 5, 7])"
      ]
     },
     "execution_count": 10,
     "metadata": {},
     "output_type": "execute_result"
    }
   ],
   "source": [
    "x = np.random.choice([3, 5, 7, 9], p=[0.1, 0.3, 0.6, 0.0], size=(100))\n",
    "x"
   ]
  },
  {
   "cell_type": "code",
   "execution_count": 11,
   "id": "d95d6236",
   "metadata": {},
   "outputs": [
    {
     "data": {
      "text/plain": [
       "0.67"
      ]
     },
     "execution_count": 11,
     "metadata": {},
     "output_type": "execute_result"
    }
   ],
   "source": [
    "y = list(x)\n",
    "y.count(7)/100"
   ]
  },
  {
   "cell_type": "code",
   "execution_count": 12,
   "id": "cfe78459",
   "metadata": {},
   "outputs": [
    {
     "data": {
      "text/plain": [
       "0.09"
      ]
     },
     "execution_count": 12,
     "metadata": {},
     "output_type": "execute_result"
    }
   ],
   "source": [
    "y.count(3)/100"
   ]
  },
  {
   "cell_type": "code",
   "execution_count": 13,
   "id": "3330c7f6",
   "metadata": {},
   "outputs": [
    {
     "data": {
      "text/plain": [
       "0.24"
      ]
     },
     "execution_count": 13,
     "metadata": {},
     "output_type": "execute_result"
    }
   ],
   "source": [
    "y.count(5)/100"
   ]
  },
  {
   "cell_type": "code",
   "execution_count": 14,
   "id": "b8466764",
   "metadata": {},
   "outputs": [
    {
     "data": {
      "text/plain": [
       "0.0"
      ]
     },
     "execution_count": 14,
     "metadata": {},
     "output_type": "execute_result"
    }
   ],
   "source": [
    "y.count(9)/100"
   ]
  },
  {
   "cell_type": "code",
   "execution_count": 15,
   "id": "909603f7",
   "metadata": {},
   "outputs": [
    {
     "data": {
      "text/plain": [
       "array([[7, 7, 7, 7, 5],\n",
       "       [7, 7, 7, 7, 7],\n",
       "       [3, 3, 5, 3, 7]])"
      ]
     },
     "execution_count": 15,
     "metadata": {},
     "output_type": "execute_result"
    }
   ],
   "source": [
    "x = np.random.choice([3, 5, 7, 9], p=[0.1, 0.3, 0.6, 0.0], size=(3, 5))\n",
    "x"
   ]
  },
  {
   "cell_type": "code",
   "execution_count": 16,
   "id": "40d8d095",
   "metadata": {},
   "outputs": [
    {
     "data": {
      "text/plain": [
       "4.466666666666667"
      ]
     },
     "execution_count": 16,
     "metadata": {},
     "output_type": "execute_result"
    }
   ],
   "source": [
    "y.count(7)/(3*5)"
   ]
  },
  {
   "cell_type": "markdown",
   "id": "e164a48c",
   "metadata": {},
   "source": [
    "# Random Permutations of Elements"
   ]
  },
  {
   "cell_type": "code",
   "execution_count": 17,
   "id": "1aff616f",
   "metadata": {},
   "outputs": [],
   "source": [
    "# changing arrangement of elements in-place. i.e. in the array itself.\n",
    "arr = np.array([1, 2, 3, 4, 5])\n",
    "\n",
    "np.random.shuffle(arr)"
   ]
  },
  {
   "cell_type": "code",
   "execution_count": 18,
   "id": "e87c138f",
   "metadata": {},
   "outputs": [
    {
     "data": {
      "text/plain": [
       "array([4, 5, 3, 1, 2])"
      ]
     },
     "execution_count": 18,
     "metadata": {},
     "output_type": "execute_result"
    }
   ],
   "source": [
    "arr"
   ]
  },
  {
   "cell_type": "markdown",
   "id": "14da7b52",
   "metadata": {},
   "source": [
    "## Generating Permutation of Arrays"
   ]
  },
  {
   "cell_type": "code",
   "execution_count": 19,
   "id": "a9db441b",
   "metadata": {},
   "outputs": [
    {
     "data": {
      "text/plain": [
       "array([4, 1, 5, 2, 3])"
      ]
     },
     "execution_count": 19,
     "metadata": {},
     "output_type": "execute_result"
    }
   ],
   "source": [
    "arr = np.array([1, 2, 3, 4, 5])\n",
    "np.random.permutation(arr)"
   ]
  }
 ],
 "metadata": {
  "kernelspec": {
   "display_name": "Python 3 (ipykernel)",
   "language": "python",
   "name": "python3"
  },
  "language_info": {
   "codemirror_mode": {
    "name": "ipython",
    "version": 3
   },
   "file_extension": ".py",
   "mimetype": "text/x-python",
   "name": "python",
   "nbconvert_exporter": "python",
   "pygments_lexer": "ipython3",
   "version": "3.9.12"
  }
 },
 "nbformat": 4,
 "nbformat_minor": 5
}
